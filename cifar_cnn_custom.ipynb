{
 "cells": [
  {
   "cell_type": "markdown",
   "id": "41f71b40",
   "metadata": {},
   "source": [
    "# Custom Dataset CNN with TensorFlow/Keras\n",
    "This notebook implements the same CNN architecture but with a custom dataset."
   ]
  },
  {
   "cell_type": "code",
   "execution_count": 6,
   "id": "5b8b949f",
   "metadata": {},
   "outputs": [],
   "source": [
    "import matplotlib.pyplot as plt\n",
    "from tensorflow.keras.models import Sequential\n",
    "from tensorflow.keras.layers import Conv2D, Flatten, MaxPool2D, Dense\n",
    "from tensorflow.keras.utils import to_categorical\n",
    "import numpy as np\n",
    "import os\n",
    "from tensorflow.keras.preprocessing.image import load_img, img_to_array"
   ]
  },
  {
   "cell_type": "markdown",
   "id": "4ee06e1c",
   "metadata": {},
   "source": [
    "## Custom Dataset Loader"
   ]
  },
  {
   "cell_type": "code",
   "execution_count": 7,
   "id": "8d6aacf2",
   "metadata": {},
   "outputs": [],
   "source": [
    "def load_custom_dataset(data_path, img_height=32, img_width=32):\n",
    "    \"\"\"\n",
    "    Load custom dataset from a directory structure:\n",
    "    data_path/\n",
    "        class1/\n",
    "            image1.jpg\n",
    "            image2.jpg\n",
    "            ...\n",
    "        class2/\n",
    "            image1.jpg\n",
    "            image2.jpg\n",
    "            ...\n",
    "        ...\n",
    "    \n",
    "    Returns:\n",
    "    - images: numpy array of shape (n_samples, height, width, channels)\n",
    "    - labels: numpy array of shape (n_samples,)\n",
    "    \"\"\"\n",
    "    images = []\n",
    "    labels = []\n",
    "    class_names = sorted(os.listdir(data_path))  # Get sorted class names\n",
    "    \n",
    "    # Create a dictionary to map class names to numeric labels\n",
    "    class_to_label = {class_name: idx for idx, class_name in enumerate(class_names)}\n",
    "    \n",
    "    for class_name in class_names:\n",
    "        class_path = os.path.join(data_path, class_name)\n",
    "        if not os.path.isdir(class_path):\n",
    "            continue\n",
    "            \n",
    "        for img_name in os.listdir(class_path):\n",
    "            if img_name.lower().endswith(('.png', '.jpg', '.jpeg')):\n",
    "                img_path = os.path.join(class_path, img_name)\n",
    "                try:\n",
    "                    # Load and preprocess image\n",
    "                    img = load_img(img_path, target_size=(img_height, img_width))\n",
    "                    img_array = img_to_array(img)\n",
    "                    # Normalize pixel values\n",
    "                    img_array = img_array / 255.0\n",
    "                    \n",
    "                    images.append(img_array)\n",
    "                    labels.append(class_to_label[class_name])\n",
    "                except Exception as e:\n",
    "                    print(f\"Error loading {img_path}: {e}\")\n",
    "    \n",
    "    return np.array(images), np.array(labels), class_names\n",
    "\n",
    "# Placeholder for dataset path - to be filled later\n",
    "DATA_PATH = \"path/to/your/dataset\"  # You'll provide this path later\n",
    "\n",
    "# Commented out until path is provided\n",
    "# X_train, y_train, class_names = load_custom_dataset(os.path.join(DATA_PATH, 'train'))\n",
    "# X_test, y_test, _ = load_custom_dataset(os.path.join(DATA_PATH, 'test'))\n",
    "\n",
    "# Convert labels to categorical\n",
    "# y_train = to_categorical(y_train)\n",
    "# y_test = to_categorical(y_test)"
   ]
  },
  {
   "cell_type": "markdown",
   "id": "c3bebf71",
   "metadata": {},
   "source": [
    "## Model Architecture\n",
    "Same CNN architecture as before, but will be adjusted based on your dataset's requirements"
   ]
  },
  {
   "cell_type": "code",
   "execution_count": 8,
   "id": "567b77b2",
   "metadata": {},
   "outputs": [],
   "source": [
    "def create_model(input_shape, num_classes):\n",
    "    model = Sequential([\n",
    "        Conv2D(32, (3, 3), activation='relu', padding='same', input_shape=input_shape),\n",
    "        MaxPool2D((2, 2)),\n",
    "        Conv2D(64, (3, 3), activation='relu', padding='same'),\n",
    "        MaxPool2D((2, 2)),\n",
    "        Conv2D(64, (3, 3), activation='relu', padding='same'),\n",
    "        Flatten(),\n",
    "        Dense(64, activation='relu'),\n",
    "        Dense(num_classes, activation='softmax')\n",
    "    ])\n",
    "    \n",
    "    model.compile(optimizer='adam',\n",
    "                 loss='categorical_crossentropy',\n",
    "                 metrics=['accuracy'])\n",
    "    \n",
    "    return model\n",
    "\n",
    "# Model will be created once you provide the dataset path and we know the input shape and number of classes\n",
    "# model = create_model(input_shape=(height, width, channels), num_classes=len(class_names))"
   ]
  },
  {
   "cell_type": "markdown",
   "id": "b6f79f1a",
   "metadata": {},
   "source": [
    "## Training\n",
    "Will be activated once you provide the dataset path"
   ]
  },
  {
   "cell_type": "code",
   "execution_count": 9,
   "id": "d4cf883d",
   "metadata": {},
   "outputs": [
    {
     "data": {
      "text/plain": [
       "'\\nhistory = model.fit(\\n    X_train, y_train,\\n    epochs=10,\\n    batch_size=32,\\n    validation_data=(X_test, y_test)\\n)\\n'"
      ]
     },
     "execution_count": 9,
     "metadata": {},
     "output_type": "execute_result"
    }
   ],
   "source": [
    "# Placeholder for training code\n",
    "\"\"\"\n",
    "history = model.fit(\n",
    "    X_train, y_train,\n",
    "    epochs=10,\n",
    "    batch_size=32,\n",
    "    validation_data=(X_test, y_test)\n",
    ")\n",
    "\"\"\""
   ]
  },
  {
   "cell_type": "markdown",
   "id": "286d25bb",
   "metadata": {},
   "source": [
    "## Evaluation and Visualization\n",
    "Will be activated once training is complete"
   ]
  },
  {
   "cell_type": "code",
   "execution_count": 10,
   "id": "bc512bcd",
   "metadata": {},
   "outputs": [
    {
     "data": {
      "text/plain": [
       "'\\ntest_loss, test_acc = model.evaluate(X_test, y_test)\\nprint(f\"Test accuracy: {test_acc:.4f}\")\\n\\n# Plot training history\\nplt.figure(figsize=(12, 4))\\n\\nplt.subplot(1, 2, 1)\\nplt.plot(history.history[\\'accuracy\\'], label=\\'Training Accuracy\\')\\nplt.plot(history.history[\\'val_accuracy\\'], label=\\'Validation Accuracy\\')\\nplt.title(\\'Model Accuracy\\')\\nplt.xlabel(\\'Epoch\\')\\nplt.ylabel(\\'Accuracy\\')\\nplt.legend()\\n\\nplt.subplot(1, 2, 2)\\nplt.plot(history.history[\\'loss\\'], label=\\'Training Loss\\')\\nplt.plot(history.history[\\'val_loss\\'], label=\\'Validation Loss\\')\\nplt.title(\\'Model Loss\\')\\nplt.xlabel(\\'Epoch\\')\\nplt.ylabel(\\'Loss\\')\\nplt.legend()\\n\\nplt.tight_layout()\\nplt.show()\\n'"
      ]
     },
     "execution_count": 10,
     "metadata": {},
     "output_type": "execute_result"
    }
   ],
   "source": [
    "# Placeholder for evaluation code\n",
    "\"\"\"\n",
    "test_loss, test_acc = model.evaluate(X_test, y_test)\n",
    "print(f\"Test accuracy: {test_acc:.4f}\")\n",
    "\n",
    "# Plot training history\n",
    "plt.figure(figsize=(12, 4))\n",
    "\n",
    "plt.subplot(1, 2, 1)\n",
    "plt.plot(history.history['accuracy'], label='Training Accuracy')\n",
    "plt.plot(history.history['val_accuracy'], label='Validation Accuracy')\n",
    "plt.title('Model Accuracy')\n",
    "plt.xlabel('Epoch')\n",
    "plt.ylabel('Accuracy')\n",
    "plt.legend()\n",
    "\n",
    "plt.subplot(1, 2, 2)\n",
    "plt.plot(history.history['loss'], label='Training Loss')\n",
    "plt.plot(history.history['val_loss'], label='Validation Loss')\n",
    "plt.title('Model Loss')\n",
    "plt.xlabel('Epoch')\n",
    "plt.ylabel('Loss')\n",
    "plt.legend()\n",
    "\n",
    "plt.tight_layout()\n",
    "plt.show()\n",
    "\"\"\""
   ]
  }
 ],
 "metadata": {
  "kernelspec": {
   "display_name": "venv",
   "language": "python",
   "name": "python3"
  },
  "language_info": {
   "codemirror_mode": {
    "name": "ipython",
    "version": 3
   },
   "file_extension": ".py",
   "mimetype": "text/x-python",
   "name": "python",
   "nbconvert_exporter": "python",
   "pygments_lexer": "ipython3",
   "version": "3.10.13"
  }
 },
 "nbformat": 4,
 "nbformat_minor": 5
}
