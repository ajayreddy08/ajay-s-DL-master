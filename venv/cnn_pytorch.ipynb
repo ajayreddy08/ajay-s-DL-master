{
 "cells": [
  {
   "cell_type": "markdown",
   "id": "68ed7fab",
   "metadata": {},
   "source": [
    "Load Libraries"
   ]
  },
  {
   "cell_type": "code",
   "execution_count": 14,
   "id": "20fff0cd",
   "metadata": {},
   "outputs": [],
   "source": [
    "import torch\n",
    "import torch.nn as nn\n",
    "from torch.optim import optimizer\n",
    "from torchvision import datasets, transforms\n",
    "from torch.utils.data import DataLoader"
   ]
  },
  {
   "cell_type": "markdown",
   "id": "4c5c142c",
   "metadata": {},
   "source": [
    "Define Transformations"
   ]
  },
  {
   "cell_type": "code",
   "execution_count": 15,
   "id": "7fc1e7fc",
   "metadata": {},
   "outputs": [],
   "source": [
    "transform = transforms.Compose({\n",
    "    transforms.ToTensor(),\n",
    "    transforms.Normalize((0.5,0.5,0.5),(0.5,0.5,0.5))\n",
    "})"
   ]
  },
  {
   "cell_type": "markdown",
   "id": "58796649",
   "metadata": {},
   "source": [
    "Load the Data"
   ]
  },
  {
   "cell_type": "code",
   "execution_count": 16,
   "id": "17b0b093",
   "metadata": {},
   "outputs": [],
   "source": [
    "train_data = datasets.CIFAR10(\n",
    "    root = './data',\n",
    "    download=True,\n",
    "    transform=transform\n",
    ")\n",
    "\n",
    "test_data = datasets.CIFAR10(\n",
    "    root = './data',\n",
    "    train=False,\n",
    "    download=True,\n",
    "    transform=transform\n",
    ")"
   ]
  },
  {
   "cell_type": "code",
   "execution_count": 17,
   "id": "8b7b76f1",
   "metadata": {},
   "outputs": [],
   "source": [
    "train_loader = DataLoader(dataset = train_data,batch_size=64,shuffle=True)\n",
    "test_loader = DataLoader(dataset = test_data,batch_size=64,shuffle=False)"
   ]
  },
  {
   "cell_type": "markdown",
   "id": "430e148a",
   "metadata": {},
   "source": [
    "Build the Architecture"
   ]
  },
  {
   "cell_type": "code",
   "execution_count": 18,
   "id": "efdc559d",
   "metadata": {},
   "outputs": [],
   "source": [
    "class cnn_cifar(nn.Module):\n",
    "    def __init__(self):\n",
    "        super(cnn_cifar, self)\n",
    "        self.cnn=nn.Conv2d(3,32,kernel_size=3,stride=1)\n",
    "        self.cnn2=nn.Conv2d(32,64,kernel_size=3,stride=1)\n",
    "        self.fc1=nn.Linear(24*24*16)\n",
    "        self.fc2=nn.Linear(120,84)\n",
    "        "
   ]
  }
 ],
 "metadata": {
  "kernelspec": {
   "display_name": "myenv (3.10.11)",
   "language": "python",
   "name": "python3"
  },
  "language_info": {
   "codemirror_mode": {
    "name": "ipython",
    "version": 3
   },
   "file_extension": ".py",
   "mimetype": "text/x-python",
   "name": "python",
   "nbconvert_exporter": "python",
   "pygments_lexer": "ipython3",
   "version": "3.10.11"
  }
 },
 "nbformat": 4,
 "nbformat_minor": 5
}
