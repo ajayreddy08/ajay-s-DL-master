{
 "cells": [
  {
   "cell_type": "code",
   "execution_count": 1,
   "id": "4f9879ef",
   "metadata": {},
   "outputs": [],
   "source": [
    "## Load Libraries\n"
   ]
  },
  {
   "cell_type": "code",
   "execution_count": 2,
   "id": "305f2da5",
   "metadata": {},
   "outputs": [],
   "source": [
    "import matplotlib.pyplot as plt\n",
    "from keras.models import Sequential\n",
    "from keras.layers import Conv2D, Flatten, MaxPool2D, Dense\n",
    "from keras.datasets import cifar10\n",
    "from keras.utils import to_categorical"
   ]
  },
  {
   "cell_type": "markdown",
   "id": "69231baa",
   "metadata": {},
   "source": [
    "## Load Data"
   ]
  },
  {
   "cell_type": "code",
   "execution_count": 3,
   "id": "e4f4d428",
   "metadata": {},
   "outputs": [],
   "source": [
    "(X_train,y_train),(X_test,y_test)=cifar10.load_data()"
   ]
  },
  {
   "cell_type": "markdown",
   "id": "348080f9",
   "metadata": {},
   "source": [
    "## Preprocessing"
   ]
  },
  {
   "cell_type": "code",
   "execution_count": 5,
   "id": "ebb79684",
   "metadata": {},
   "outputs": [
    {
     "name": "stdout",
     "output_type": "stream",
     "text": [
      "[0. 0. 0. 0. 0. 0. 1. 0. 0. 0.]\n",
      "[[1. 0.]\n",
      " [1. 0.]\n",
      " [1. 0.]\n",
      " [1. 0.]\n",
      " [1. 0.]\n",
      " [1. 0.]\n",
      " [0. 1.]\n",
      " [1. 0.]\n",
      " [1. 0.]\n",
      " [1. 0.]]\n",
      "(50000, 10, 2)\n",
      "(50000, 32, 32, 3)\n"
     ]
    }
   ],
   "source": [
    "print(y_train[0])\n",
    "y_train=to_categorical(y_train)\n",
    "print(y_train[0])\n",
    "print(y_train.shape)\n",
    "print(X_train.shape)\n"
   ]
  },
  {
   "cell_type": "markdown",
   "id": "2f3f669a",
   "metadata": {},
   "source": [
    "## Build the Architecture"
   ]
  },
  {
   "cell_type": "code",
   "execution_count": 7,
   "id": "f03bebfa",
   "metadata": {},
   "outputs": [],
   "source": [
    "model=Sequential()\n",
    "model.add(Conv2D(6,(3,3),activation='relu'))\n",
    "model.add(MaxPool2D((2,2)))\n",
    "model.add(Flatten(input_shape=(32,32,3)))\n",
    "model.add(Dense(128,activation='relu'))\n",
    "model.add(Dense(10,activation='softmax'))\n",
    "\n",
    "\n"
   ]
  },
  {
   "cell_type": "markdown",
   "id": "7b123439",
   "metadata": {},
   "source": [
    "## Compile"
   ]
  },
  {
   "cell_type": "code",
   "execution_count": 8,
   "id": "0d90c133",
   "metadata": {},
   "outputs": [],
   "source": [
    "model.compile(optimizer='adam',loss='categorical_crossentropy',metrics=['accuracy'])"
   ]
  },
  {
   "cell_type": "markdown",
   "id": "fda3a2e0",
   "metadata": {},
   "source": [
    "## Train"
   ]
  },
  {
   "cell_type": "code",
   "execution_count": 13,
   "id": "25590500",
   "metadata": {},
   "outputs": [
    {
     "name": "stdout",
     "output_type": "stream",
     "text": [
      "(50000, 32, 32, 3)\n",
      "(50000, 10)\n"
     ]
    }
   ],
   "source": [
    "# model.fit(X_train,y_train,epochs=10,batch_size=64)\n",
    "import numpy as np\n",
    "from keras.datasets import cifar10\n",
    "from keras.utils import to_categorical\n",
    "\n",
    "# Load data again cleanly\n",
    "(X_train, y_train), (X_test, y_test) = cifar10.load_data()\n",
    "\n",
    "# Normalize inputs\n",
    "X_train = X_train.astype(\"float32\") / 255.0\n",
    "X_test = X_test.astype(\"float32\") / 255.0\n",
    "\n",
    "# One-hot encode labels\n",
    "y_train = to_categorical(y_train, 10)\n",
    "y_test = to_categorical(y_test, 10)\n",
    "\n",
    "print(X_train.shape)  # (50000, 32, 32, 3)\n",
    "print(y_train.shape)  # (50000, 10)\n"
   ]
  },
  {
   "cell_type": "markdown",
   "id": "60220247",
   "metadata": {},
   "source": [
    "## Experiment 2"
   ]
  },
  {
   "cell_type": "markdown",
   "id": "b19808fa",
   "metadata": {},
   "source": [
    "Analysis : In the previous experiment,it is observed that accuracy is improved continously for every epoch\n",
    "\n",
    "So continue the training and increase epochs from 10 to 30\n"
   ]
  },
  {
   "cell_type": "markdown",
   "id": "ffb5c0e3",
   "metadata": {},
   "source": [
    "Hyperparameters:\n",
    "               epochs:30"
   ]
  },
  {
   "cell_type": "code",
   "execution_count": 18,
   "id": "58f6fe7b",
   "metadata": {},
   "outputs": [
    {
     "name": "stdout",
     "output_type": "stream",
     "text": [
      "X_train shape: (50000, 32, 32, 3)\n",
      "y_train shape: (50000, 10)\n",
      "Type of X_train: <class 'numpy.ndarray'>\n",
      "Type of y_train: <class 'numpy.ndarray'>\n",
      "First X_train sample shape: (32, 32, 3)\n",
      "First y_train sample: [0. 0. 0. 0. 0. 0. 1. 0. 0. 0.]\n"
     ]
    }
   ],
   "source": [
    "print(\"X_train shape:\", X_train.shape)\n",
    "print(\"y_train shape:\", y_train.shape)\n",
    "print(\"Type of X_train:\", type(X_train))\n",
    "print(\"Type of y_train:\", type(y_train))\n",
    "print(\"First X_train sample shape:\", X_train[0].shape)\n",
    "print(\"First y_train sample:\", y_train[0])\n"
   ]
  },
  {
   "cell_type": "code",
   "execution_count": 19,
   "id": "42167d60",
   "metadata": {},
   "outputs": [
    {
     "name": "stderr",
     "output_type": "stream",
     "text": [
      "/Users/chinthalaajayreddy/Downloads/ajay-s-DL-master/venv/lib/python3.10/site-packages/keras/src/layers/reshaping/flatten.py:37: UserWarning: Do not pass an `input_shape`/`input_dim` argument to a layer. When using Sequential models, prefer using an `Input(shape)` object as the first layer in the model instead.\n",
      "  super().__init__(**kwargs)\n"
     ]
    }
   ],
   "source": [
    "model=Sequential()\n",
    "model.add(Conv2D(6,(3,3),activation='relu'))\n",
    "model.add(MaxPool2D((2,2)))\n",
    "model.add(Flatten(input_shape=(32,32,3)))\n",
    "model.add(Dense(128,activation='relu'))\n",
    "model.add(Dense(10,activation='softmax'))\n",
    "model.compile(optimizer='adam',loss='categorical_crossentropy',metrics=['accuracy'])\n"
   ]
  },
  {
   "cell_type": "code",
   "execution_count": 20,
   "id": "d8fabc65",
   "metadata": {},
   "outputs": [
    {
     "name": "stdout",
     "output_type": "stream",
     "text": [
      "Epoch 1/50\n",
      "\u001b[1m782/782\u001b[0m \u001b[32m━━━━━━━━━━━━━━━━━━━━\u001b[0m\u001b[37m\u001b[0m \u001b[1m4s\u001b[0m 4ms/step - accuracy: 0.4148 - loss: 1.6459\n",
      "Epoch 2/50\n",
      "\u001b[1m782/782\u001b[0m \u001b[32m━━━━━━━━━━━━━━━━━━━━\u001b[0m\u001b[37m\u001b[0m \u001b[1m3s\u001b[0m 4ms/step - accuracy: 0.5020 - loss: 1.4152\n",
      "Epoch 3/50\n",
      "\u001b[1m782/782\u001b[0m \u001b[32m━━━━━━━━━━━━━━━━━━━━\u001b[0m\u001b[37m\u001b[0m \u001b[1m4s\u001b[0m 5ms/step - accuracy: 0.5419 - loss: 1.3085\n",
      "Epoch 4/50\n",
      "\u001b[1m782/782\u001b[0m \u001b[32m━━━━━━━━━━━━━━━━━━━━\u001b[0m\u001b[37m\u001b[0m \u001b[1m3s\u001b[0m 4ms/step - accuracy: 0.5725 - loss: 1.2205\n",
      "Epoch 5/50\n",
      "\u001b[1m782/782\u001b[0m \u001b[32m━━━━━━━━━━━━━━━━━━━━\u001b[0m\u001b[37m\u001b[0m \u001b[1m3s\u001b[0m 4ms/step - accuracy: 0.5963 - loss: 1.1499\n",
      "Epoch 6/50\n",
      "\u001b[1m782/782\u001b[0m \u001b[32m━━━━━━━━━━━━━━━━━━━━\u001b[0m\u001b[37m\u001b[0m \u001b[1m3s\u001b[0m 4ms/step - accuracy: 0.6201 - loss: 1.0913\n",
      "Epoch 7/50\n",
      "\u001b[1m782/782\u001b[0m \u001b[32m━━━━━━━━━━━━━━━━━━━━\u001b[0m\u001b[37m\u001b[0m \u001b[1m3s\u001b[0m 4ms/step - accuracy: 0.6384 - loss: 1.0397\n",
      "Epoch 8/50\n",
      "\u001b[1m782/782\u001b[0m \u001b[32m━━━━━━━━━━━━━━━━━━━━\u001b[0m\u001b[37m\u001b[0m \u001b[1m3s\u001b[0m 4ms/step - accuracy: 0.6525 - loss: 0.9943\n",
      "Epoch 9/50\n",
      "\u001b[1m782/782\u001b[0m \u001b[32m━━━━━━━━━━━━━━━━━━━━\u001b[0m\u001b[37m\u001b[0m \u001b[1m3s\u001b[0m 4ms/step - accuracy: 0.6669 - loss: 0.9578\n",
      "Epoch 10/50\n",
      "\u001b[1m782/782\u001b[0m \u001b[32m━━━━━━━━━━━━━━━━━━━━\u001b[0m\u001b[37m\u001b[0m \u001b[1m3s\u001b[0m 4ms/step - accuracy: 0.6793 - loss: 0.9183\n",
      "Epoch 11/50\n",
      "\u001b[1m782/782\u001b[0m \u001b[32m━━━━━━━━━━━━━━━━━━━━\u001b[0m\u001b[37m\u001b[0m \u001b[1m3s\u001b[0m 4ms/step - accuracy: 0.6924 - loss: 0.8842\n",
      "Epoch 12/50\n",
      "\u001b[1m782/782\u001b[0m \u001b[32m━━━━━━━━━━━━━━━━━━━━\u001b[0m\u001b[37m\u001b[0m \u001b[1m3s\u001b[0m 4ms/step - accuracy: 0.7009 - loss: 0.8536\n",
      "Epoch 13/50\n",
      "\u001b[1m782/782\u001b[0m \u001b[32m━━━━━━━━━━━━━━━━━━━━\u001b[0m\u001b[37m\u001b[0m \u001b[1m3s\u001b[0m 4ms/step - accuracy: 0.7128 - loss: 0.8244\n",
      "Epoch 14/50\n",
      "\u001b[1m782/782\u001b[0m \u001b[32m━━━━━━━━━━━━━━━━━━━━\u001b[0m\u001b[37m\u001b[0m \u001b[1m3s\u001b[0m 4ms/step - accuracy: 0.7223 - loss: 0.7947\n",
      "Epoch 15/50\n",
      "\u001b[1m782/782\u001b[0m \u001b[32m━━━━━━━━━━━━━━━━━━━━\u001b[0m\u001b[37m\u001b[0m \u001b[1m3s\u001b[0m 4ms/step - accuracy: 0.7335 - loss: 0.7666\n",
      "Epoch 16/50\n",
      "\u001b[1m782/782\u001b[0m \u001b[32m━━━━━━━━━━━━━━━━━━━━\u001b[0m\u001b[37m\u001b[0m \u001b[1m3s\u001b[0m 4ms/step - accuracy: 0.7408 - loss: 0.7428\n",
      "Epoch 17/50\n",
      "\u001b[1m782/782\u001b[0m \u001b[32m━━━━━━━━━━━━━━━━━━━━\u001b[0m\u001b[37m\u001b[0m \u001b[1m3s\u001b[0m 4ms/step - accuracy: 0.7501 - loss: 0.7183\n",
      "Epoch 18/50\n",
      "\u001b[1m782/782\u001b[0m \u001b[32m━━━━━━━━━━━━━━━━━━━━\u001b[0m\u001b[37m\u001b[0m \u001b[1m3s\u001b[0m 4ms/step - accuracy: 0.7611 - loss: 0.6898\n",
      "Epoch 19/50\n",
      "\u001b[1m782/782\u001b[0m \u001b[32m━━━━━━━━━━━━━━━━━━━━\u001b[0m\u001b[37m\u001b[0m \u001b[1m3s\u001b[0m 4ms/step - accuracy: 0.7706 - loss: 0.6622\n",
      "Epoch 20/50\n",
      "\u001b[1m782/782\u001b[0m \u001b[32m━━━━━━━━━━━━━━━━━━━━\u001b[0m\u001b[37m\u001b[0m \u001b[1m3s\u001b[0m 4ms/step - accuracy: 0.7769 - loss: 0.6444\n",
      "Epoch 21/50\n",
      "\u001b[1m782/782\u001b[0m \u001b[32m━━━━━━━━━━━━━━━━━━━━\u001b[0m\u001b[37m\u001b[0m \u001b[1m3s\u001b[0m 4ms/step - accuracy: 0.7848 - loss: 0.6174\n",
      "Epoch 22/50\n",
      "\u001b[1m782/782\u001b[0m \u001b[32m━━━━━━━━━━━━━━━━━━━━\u001b[0m\u001b[37m\u001b[0m \u001b[1m3s\u001b[0m 4ms/step - accuracy: 0.7952 - loss: 0.5919\n",
      "Epoch 23/50\n",
      "\u001b[1m782/782\u001b[0m \u001b[32m━━━━━━━━━━━━━━━━━━━━\u001b[0m\u001b[37m\u001b[0m \u001b[1m3s\u001b[0m 4ms/step - accuracy: 0.8012 - loss: 0.5724\n",
      "Epoch 24/50\n",
      "\u001b[1m782/782\u001b[0m \u001b[32m━━━━━━━━━━━━━━━━━━━━\u001b[0m\u001b[37m\u001b[0m \u001b[1m3s\u001b[0m 4ms/step - accuracy: 0.8100 - loss: 0.5498\n",
      "Epoch 25/50\n",
      "\u001b[1m782/782\u001b[0m \u001b[32m━━━━━━━━━━━━━━━━━━━━\u001b[0m\u001b[37m\u001b[0m \u001b[1m3s\u001b[0m 4ms/step - accuracy: 0.8194 - loss: 0.5249\n",
      "Epoch 26/50\n",
      "\u001b[1m782/782\u001b[0m \u001b[32m━━━━━━━━━━━━━━━━━━━━\u001b[0m\u001b[37m\u001b[0m \u001b[1m3s\u001b[0m 4ms/step - accuracy: 0.8245 - loss: 0.5090\n",
      "Epoch 27/50\n",
      "\u001b[1m782/782\u001b[0m \u001b[32m━━━━━━━━━━━━━━━━━━━━\u001b[0m\u001b[37m\u001b[0m \u001b[1m3s\u001b[0m 4ms/step - accuracy: 0.8311 - loss: 0.4875\n",
      "Epoch 28/50\n",
      "\u001b[1m782/782\u001b[0m \u001b[32m━━━━━━━━━━━━━━━━━━━━\u001b[0m\u001b[37m\u001b[0m \u001b[1m3s\u001b[0m 4ms/step - accuracy: 0.8405 - loss: 0.4656\n",
      "Epoch 29/50\n",
      "\u001b[1m782/782\u001b[0m \u001b[32m━━━━━━━━━━━━━━━━━━━━\u001b[0m\u001b[37m\u001b[0m \u001b[1m3s\u001b[0m 4ms/step - accuracy: 0.8455 - loss: 0.4469\n",
      "Epoch 30/50\n",
      "\u001b[1m782/782\u001b[0m \u001b[32m━━━━━━━━━━━━━━━━━━━━\u001b[0m\u001b[37m\u001b[0m \u001b[1m3s\u001b[0m 4ms/step - accuracy: 0.8526 - loss: 0.4318\n",
      "Epoch 31/50\n",
      "\u001b[1m782/782\u001b[0m \u001b[32m━━━━━━━━━━━━━━━━━━━━\u001b[0m\u001b[37m\u001b[0m \u001b[1m3s\u001b[0m 4ms/step - accuracy: 0.8591 - loss: 0.4111\n",
      "Epoch 32/50\n",
      "\u001b[1m782/782\u001b[0m \u001b[32m━━━━━━━━━━━━━━━━━━━━\u001b[0m\u001b[37m\u001b[0m \u001b[1m3s\u001b[0m 4ms/step - accuracy: 0.8665 - loss: 0.3927\n",
      "Epoch 33/50\n",
      "\u001b[1m782/782\u001b[0m \u001b[32m━━━━━━━━━━━━━━━━━━━━\u001b[0m\u001b[37m\u001b[0m \u001b[1m3s\u001b[0m 4ms/step - accuracy: 0.8740 - loss: 0.3736\n",
      "Epoch 34/50\n",
      "\u001b[1m782/782\u001b[0m \u001b[32m━━━━━━━━━━━━━━━━━━━━\u001b[0m\u001b[37m\u001b[0m \u001b[1m3s\u001b[0m 4ms/step - accuracy: 0.8793 - loss: 0.3561\n",
      "Epoch 35/50\n",
      "\u001b[1m782/782\u001b[0m \u001b[32m━━━━━━━━━━━━━━━━━━━━\u001b[0m\u001b[37m\u001b[0m \u001b[1m3s\u001b[0m 4ms/step - accuracy: 0.8866 - loss: 0.3379\n",
      "Epoch 36/50\n",
      "\u001b[1m782/782\u001b[0m \u001b[32m━━━━━━━━━━━━━━━━━━━━\u001b[0m\u001b[37m\u001b[0m \u001b[1m3s\u001b[0m 4ms/step - accuracy: 0.8896 - loss: 0.3301\n",
      "Epoch 37/50\n",
      "\u001b[1m782/782\u001b[0m \u001b[32m━━━━━━━━━━━━━━━━━━━━\u001b[0m\u001b[37m\u001b[0m \u001b[1m3s\u001b[0m 4ms/step - accuracy: 0.8952 - loss: 0.3136\n",
      "Epoch 38/50\n",
      "\u001b[1m782/782\u001b[0m \u001b[32m━━━━━━━━━━━━━━━━━━━━\u001b[0m\u001b[37m\u001b[0m \u001b[1m3s\u001b[0m 4ms/step - accuracy: 0.9004 - loss: 0.2965\n",
      "Epoch 39/50\n",
      "\u001b[1m782/782\u001b[0m \u001b[32m━━━━━━━━━━━━━━━━━━━━\u001b[0m\u001b[37m\u001b[0m \u001b[1m3s\u001b[0m 4ms/step - accuracy: 0.9053 - loss: 0.2843\n",
      "Epoch 40/50\n",
      "\u001b[1m782/782\u001b[0m \u001b[32m━━━━━━━━━━━━━━━━━━━━\u001b[0m\u001b[37m\u001b[0m \u001b[1m3s\u001b[0m 4ms/step - accuracy: 0.9104 - loss: 0.2681\n",
      "Epoch 41/50\n",
      "\u001b[1m782/782\u001b[0m \u001b[32m━━━━━━━━━━━━━━━━━━━━\u001b[0m\u001b[37m\u001b[0m \u001b[1m3s\u001b[0m 4ms/step - accuracy: 0.9170 - loss: 0.2534\n",
      "Epoch 42/50\n",
      "\u001b[1m782/782\u001b[0m \u001b[32m━━━━━━━━━━━━━━━━━━━━\u001b[0m\u001b[37m\u001b[0m \u001b[1m3s\u001b[0m 4ms/step - accuracy: 0.9204 - loss: 0.2415\n",
      "Epoch 43/50\n",
      "\u001b[1m782/782\u001b[0m \u001b[32m━━━━━━━━━━━━━━━━━━━━\u001b[0m\u001b[37m\u001b[0m \u001b[1m3s\u001b[0m 4ms/step - accuracy: 0.9227 - loss: 0.2363\n",
      "Epoch 44/50\n",
      "\u001b[1m782/782\u001b[0m \u001b[32m━━━━━━━━━━━━━━━━━━━━\u001b[0m\u001b[37m\u001b[0m \u001b[1m3s\u001b[0m 4ms/step - accuracy: 0.9303 - loss: 0.2167\n",
      "Epoch 45/50\n",
      "\u001b[1m782/782\u001b[0m \u001b[32m━━━━━━━━━━━━━━━━━━━━\u001b[0m\u001b[37m\u001b[0m \u001b[1m3s\u001b[0m 4ms/step - accuracy: 0.9355 - loss: 0.2025\n",
      "Epoch 46/50\n",
      "\u001b[1m782/782\u001b[0m \u001b[32m━━━━━━━━━━━━━━━━━━━━\u001b[0m\u001b[37m\u001b[0m \u001b[1m3s\u001b[0m 4ms/step - accuracy: 0.9333 - loss: 0.2042\n",
      "Epoch 47/50\n",
      "\u001b[1m782/782\u001b[0m \u001b[32m━━━━━━━━━━━━━━━━━━━━\u001b[0m\u001b[37m\u001b[0m \u001b[1m3s\u001b[0m 4ms/step - accuracy: 0.9404 - loss: 0.1876\n",
      "Epoch 48/50\n",
      "\u001b[1m782/782\u001b[0m \u001b[32m━━━━━━━━━━━━━━━━━━━━\u001b[0m\u001b[37m\u001b[0m \u001b[1m3s\u001b[0m 4ms/step - accuracy: 0.9420 - loss: 0.1799\n",
      "Epoch 49/50\n",
      "\u001b[1m782/782\u001b[0m \u001b[32m━━━━━━━━━━━━━━━━━━━━\u001b[0m\u001b[37m\u001b[0m \u001b[1m3s\u001b[0m 4ms/step - accuracy: 0.9439 - loss: 0.1761\n",
      "Epoch 50/50\n",
      "\u001b[1m782/782\u001b[0m \u001b[32m━━━━━━━━━━━━━━━━━━━━\u001b[0m\u001b[37m\u001b[0m \u001b[1m3s\u001b[0m 4ms/step - accuracy: 0.9476 - loss: 0.1648\n"
     ]
    }
   ],
   "source": [
    "result=model.fit(X_train,y_train,epochs=50,batch_size=64)\n"
   ]
  },
  {
   "cell_type": "markdown",
   "id": "00047572",
   "metadata": {},
   "source": [
    "## Experiment 3"
   ]
  },
  {
   "cell_type": "code",
   "execution_count": 21,
   "id": "09c821f1",
   "metadata": {},
   "outputs": [
    {
     "name": "stdout",
     "output_type": "stream",
     "text": [
      "Epoch 1/100\n",
      "\u001b[1m782/782\u001b[0m \u001b[32m━━━━━━━━━━━━━━━━━━━━\u001b[0m\u001b[37m\u001b[0m \u001b[1m4s\u001b[0m 5ms/step - accuracy: 0.4265 - loss: 1.5908 - val_accuracy: 0.4663 - val_loss: 1.4823\n",
      "Epoch 2/100\n",
      "\u001b[1m782/782\u001b[0m \u001b[32m━━━━━━━━━━━━━━━━━━━━\u001b[0m\u001b[37m\u001b[0m \u001b[1m3s\u001b[0m 4ms/step - accuracy: 0.5385 - loss: 1.3006 - val_accuracy: 0.5424 - val_loss: 1.2957\n",
      "Epoch 3/100\n",
      "\u001b[1m782/782\u001b[0m \u001b[32m━━━━━━━━━━━━━━━━━━━━\u001b[0m\u001b[37m\u001b[0m \u001b[1m3s\u001b[0m 4ms/step - accuracy: 0.5781 - loss: 1.1929 - val_accuracy: 0.5726 - val_loss: 1.2177\n",
      "Epoch 4/100\n",
      "\u001b[1m782/782\u001b[0m \u001b[32m━━━━━━━━━━━━━━━━━━━━\u001b[0m\u001b[37m\u001b[0m \u001b[1m3s\u001b[0m 4ms/step - accuracy: 0.6087 - loss: 1.1136 - val_accuracy: 0.5893 - val_loss: 1.1683\n",
      "Epoch 5/100\n",
      "\u001b[1m782/782\u001b[0m \u001b[32m━━━━━━━━━━━━━━━━━━━━\u001b[0m\u001b[37m\u001b[0m \u001b[1m3s\u001b[0m 4ms/step - accuracy: 0.6315 - loss: 1.0471 - val_accuracy: 0.5811 - val_loss: 1.1823\n",
      "Epoch 6/100\n",
      "\u001b[1m782/782\u001b[0m \u001b[32m━━━━━━━━━━━━━━━━━━━━\u001b[0m\u001b[37m\u001b[0m \u001b[1m3s\u001b[0m 4ms/step - accuracy: 0.6561 - loss: 0.9800 - val_accuracy: 0.5866 - val_loss: 1.1855\n",
      "Epoch 7/100\n",
      "\u001b[1m782/782\u001b[0m \u001b[32m━━━━━━━━━━━━━━━━━━━━\u001b[0m\u001b[37m\u001b[0m \u001b[1m3s\u001b[0m 4ms/step - accuracy: 0.6759 - loss: 0.9252 - val_accuracy: 0.5978 - val_loss: 1.1508\n",
      "Epoch 8/100\n",
      "\u001b[1m782/782\u001b[0m \u001b[32m━━━━━━━━━━━━━━━━━━━━\u001b[0m\u001b[37m\u001b[0m \u001b[1m3s\u001b[0m 4ms/step - accuracy: 0.6942 - loss: 0.8730 - val_accuracy: 0.5980 - val_loss: 1.1735\n",
      "Epoch 9/100\n",
      "\u001b[1m782/782\u001b[0m \u001b[32m━━━━━━━━━━━━━━━━━━━━\u001b[0m\u001b[37m\u001b[0m \u001b[1m3s\u001b[0m 4ms/step - accuracy: 0.7106 - loss: 0.8280 - val_accuracy: 0.6001 - val_loss: 1.1729\n",
      "Epoch 10/100\n",
      "\u001b[1m782/782\u001b[0m \u001b[32m━━━━━━━━━━━━━━━━━━━━\u001b[0m\u001b[37m\u001b[0m \u001b[1m3s\u001b[0m 4ms/step - accuracy: 0.7268 - loss: 0.7819 - val_accuracy: 0.6080 - val_loss: 1.1948\n",
      "Epoch 11/100\n",
      "\u001b[1m782/782\u001b[0m \u001b[32m━━━━━━━━━━━━━━━━━━━━\u001b[0m\u001b[37m\u001b[0m \u001b[1m3s\u001b[0m 4ms/step - accuracy: 0.7395 - loss: 0.7350 - val_accuracy: 0.5901 - val_loss: 1.2662\n",
      "Epoch 12/100\n",
      "\u001b[1m782/782\u001b[0m \u001b[32m━━━━━━━━━━━━━━━━━━━━\u001b[0m\u001b[37m\u001b[0m \u001b[1m3s\u001b[0m 4ms/step - accuracy: 0.7580 - loss: 0.6902 - val_accuracy: 0.6013 - val_loss: 1.2522\n",
      "Epoch 13/100\n",
      "\u001b[1m782/782\u001b[0m \u001b[32m━━━━━━━━━━━━━━━━━━━━\u001b[0m\u001b[37m\u001b[0m \u001b[1m3s\u001b[0m 4ms/step - accuracy: 0.7724 - loss: 0.6462 - val_accuracy: 0.5946 - val_loss: 1.3127\n",
      "Epoch 14/100\n",
      "\u001b[1m782/782\u001b[0m \u001b[32m━━━━━━━━━━━━━━━━━━━━\u001b[0m\u001b[37m\u001b[0m \u001b[1m3s\u001b[0m 4ms/step - accuracy: 0.7864 - loss: 0.6078 - val_accuracy: 0.5884 - val_loss: 1.3446\n",
      "Epoch 15/100\n",
      "\u001b[1m782/782\u001b[0m \u001b[32m━━━━━━━━━━━━━━━━━━━━\u001b[0m\u001b[37m\u001b[0m \u001b[1m3s\u001b[0m 4ms/step - accuracy: 0.7997 - loss: 0.5738 - val_accuracy: 0.5970 - val_loss: 1.3362\n",
      "Epoch 16/100\n",
      "\u001b[1m782/782\u001b[0m \u001b[32m━━━━━━━━━━━━━━━━━━━━\u001b[0m\u001b[37m\u001b[0m \u001b[1m3s\u001b[0m 4ms/step - accuracy: 0.8139 - loss: 0.5328 - val_accuracy: 0.5922 - val_loss: 1.4055\n",
      "Epoch 17/100\n",
      "\u001b[1m782/782\u001b[0m \u001b[32m━━━━━━━━━━━━━━━━━━━━\u001b[0m\u001b[37m\u001b[0m \u001b[1m4s\u001b[0m 4ms/step - accuracy: 0.8259 - loss: 0.4965 - val_accuracy: 0.5848 - val_loss: 1.5108\n",
      "Epoch 18/100\n",
      "\u001b[1m782/782\u001b[0m \u001b[32m━━━━━━━━━━━━━━━━━━━━\u001b[0m\u001b[37m\u001b[0m \u001b[1m3s\u001b[0m 4ms/step - accuracy: 0.8392 - loss: 0.4632 - val_accuracy: 0.5812 - val_loss: 1.5483\n",
      "Epoch 19/100\n",
      "\u001b[1m782/782\u001b[0m \u001b[32m━━━━━━━━━━━━━━━━━━━━\u001b[0m\u001b[37m\u001b[0m \u001b[1m4s\u001b[0m 5ms/step - accuracy: 0.8493 - loss: 0.4321 - val_accuracy: 0.5879 - val_loss: 1.6215\n",
      "Epoch 20/100\n",
      "\u001b[1m782/782\u001b[0m \u001b[32m━━━━━━━━━━━━━━━━━━━━\u001b[0m\u001b[37m\u001b[0m \u001b[1m4s\u001b[0m 5ms/step - accuracy: 0.8601 - loss: 0.4045 - val_accuracy: 0.5827 - val_loss: 1.7188\n",
      "Epoch 21/100\n",
      "\u001b[1m782/782\u001b[0m \u001b[32m━━━━━━━━━━━━━━━━━━━━\u001b[0m\u001b[37m\u001b[0m \u001b[1m4s\u001b[0m 5ms/step - accuracy: 0.8681 - loss: 0.3797 - val_accuracy: 0.5766 - val_loss: 1.7557\n",
      "Epoch 22/100\n",
      "\u001b[1m782/782\u001b[0m \u001b[32m━━━━━━━━━━━━━━━━━━━━\u001b[0m\u001b[37m\u001b[0m \u001b[1m4s\u001b[0m 5ms/step - accuracy: 0.8773 - loss: 0.3516 - val_accuracy: 0.5792 - val_loss: 1.8290\n",
      "Epoch 23/100\n",
      "\u001b[1m782/782\u001b[0m \u001b[32m━━━━━━━━━━━━━━━━━━━━\u001b[0m\u001b[37m\u001b[0m \u001b[1m4s\u001b[0m 5ms/step - accuracy: 0.8875 - loss: 0.3250 - val_accuracy: 0.5817 - val_loss: 1.9086\n",
      "Epoch 24/100\n",
      "\u001b[1m782/782\u001b[0m \u001b[32m━━━━━━━━━━━━━━━━━━━━\u001b[0m\u001b[37m\u001b[0m \u001b[1m4s\u001b[0m 5ms/step - accuracy: 0.8975 - loss: 0.2962 - val_accuracy: 0.5762 - val_loss: 2.0160\n",
      "Epoch 25/100\n",
      "\u001b[1m782/782\u001b[0m \u001b[32m━━━━━━━━━━━━━━━━━━━━\u001b[0m\u001b[37m\u001b[0m \u001b[1m4s\u001b[0m 5ms/step - accuracy: 0.9057 - loss: 0.2741 - val_accuracy: 0.5735 - val_loss: 2.1637\n",
      "Epoch 26/100\n",
      "\u001b[1m782/782\u001b[0m \u001b[32m━━━━━━━━━━━━━━━━━━━━\u001b[0m\u001b[37m\u001b[0m \u001b[1m4s\u001b[0m 5ms/step - accuracy: 0.9100 - loss: 0.2584 - val_accuracy: 0.5675 - val_loss: 2.2316\n",
      "Epoch 27/100\n",
      "\u001b[1m782/782\u001b[0m \u001b[32m━━━━━━━━━━━━━━━━━━━━\u001b[0m\u001b[37m\u001b[0m \u001b[1m4s\u001b[0m 6ms/step - accuracy: 0.9162 - loss: 0.2428 - val_accuracy: 0.5736 - val_loss: 2.2644\n",
      "Epoch 28/100\n",
      "\u001b[1m782/782\u001b[0m \u001b[32m━━━━━━━━━━━━━━━━━━━━\u001b[0m\u001b[37m\u001b[0m \u001b[1m4s\u001b[0m 5ms/step - accuracy: 0.9242 - loss: 0.2177 - val_accuracy: 0.5728 - val_loss: 2.4046\n",
      "Epoch 29/100\n",
      "\u001b[1m782/782\u001b[0m \u001b[32m━━━━━━━━━━━━━━━━━━━━\u001b[0m\u001b[37m\u001b[0m \u001b[1m4s\u001b[0m 6ms/step - accuracy: 0.9289 - loss: 0.2062 - val_accuracy: 0.5713 - val_loss: 2.4971\n",
      "Epoch 30/100\n",
      "\u001b[1m782/782\u001b[0m \u001b[32m━━━━━━━━━━━━━━━━━━━━\u001b[0m\u001b[37m\u001b[0m \u001b[1m5s\u001b[0m 6ms/step - accuracy: 0.9336 - loss: 0.1940 - val_accuracy: 0.5702 - val_loss: 2.5929\n",
      "Epoch 31/100\n",
      "\u001b[1m782/782\u001b[0m \u001b[32m━━━━━━━━━━━━━━━━━━━━\u001b[0m\u001b[37m\u001b[0m \u001b[1m5s\u001b[0m 6ms/step - accuracy: 0.9391 - loss: 0.1756 - val_accuracy: 0.5627 - val_loss: 2.7231\n",
      "Epoch 32/100\n",
      "\u001b[1m782/782\u001b[0m \u001b[32m━━━━━━━━━━━━━━━━━━━━\u001b[0m\u001b[37m\u001b[0m \u001b[1m5s\u001b[0m 6ms/step - accuracy: 0.9432 - loss: 0.1648 - val_accuracy: 0.5640 - val_loss: 2.8352\n",
      "Epoch 33/100\n",
      "\u001b[1m782/782\u001b[0m \u001b[32m━━━━━━━━━━━━━━━━━━━━\u001b[0m\u001b[37m\u001b[0m \u001b[1m5s\u001b[0m 6ms/step - accuracy: 0.9460 - loss: 0.1591 - val_accuracy: 0.5645 - val_loss: 2.9623\n",
      "Epoch 34/100\n",
      "\u001b[1m782/782\u001b[0m \u001b[32m━━━━━━━━━━━━━━━━━━━━\u001b[0m\u001b[37m\u001b[0m \u001b[1m5s\u001b[0m 6ms/step - accuracy: 0.9484 - loss: 0.1497 - val_accuracy: 0.5713 - val_loss: 2.9970\n",
      "Epoch 35/100\n",
      "\u001b[1m782/782\u001b[0m \u001b[32m━━━━━━━━━━━━━━━━━━━━\u001b[0m\u001b[37m\u001b[0m \u001b[1m5s\u001b[0m 6ms/step - accuracy: 0.9522 - loss: 0.1389 - val_accuracy: 0.5610 - val_loss: 3.1114\n",
      "Epoch 36/100\n",
      "\u001b[1m782/782\u001b[0m \u001b[32m━━━━━━━━━━━━━━━━━━━━\u001b[0m\u001b[37m\u001b[0m \u001b[1m5s\u001b[0m 6ms/step - accuracy: 0.9509 - loss: 0.1415 - val_accuracy: 0.5609 - val_loss: 3.2036\n",
      "Epoch 37/100\n",
      "\u001b[1m782/782\u001b[0m \u001b[32m━━━━━━━━━━━━━━━━━━━━\u001b[0m\u001b[37m\u001b[0m \u001b[1m5s\u001b[0m 6ms/step - accuracy: 0.9557 - loss: 0.1278 - val_accuracy: 0.5599 - val_loss: 3.4078\n",
      "Epoch 38/100\n",
      "\u001b[1m782/782\u001b[0m \u001b[32m━━━━━━━━━━━━━━━━━━━━\u001b[0m\u001b[37m\u001b[0m \u001b[1m5s\u001b[0m 6ms/step - accuracy: 0.9607 - loss: 0.1166 - val_accuracy: 0.5632 - val_loss: 3.4336\n",
      "Epoch 39/100\n",
      "\u001b[1m782/782\u001b[0m \u001b[32m━━━━━━━━━━━━━━━━━━━━\u001b[0m\u001b[37m\u001b[0m \u001b[1m5s\u001b[0m 6ms/step - accuracy: 0.9614 - loss: 0.1114 - val_accuracy: 0.5619 - val_loss: 3.4829\n",
      "Epoch 40/100\n",
      "\u001b[1m782/782\u001b[0m \u001b[32m━━━━━━━━━━━━━━━━━━━━\u001b[0m\u001b[37m\u001b[0m \u001b[1m5s\u001b[0m 6ms/step - accuracy: 0.9556 - loss: 0.1256 - val_accuracy: 0.5620 - val_loss: 3.4598\n",
      "Epoch 41/100\n",
      "\u001b[1m782/782\u001b[0m \u001b[32m━━━━━━━━━━━━━━━━━━━━\u001b[0m\u001b[37m\u001b[0m \u001b[1m5s\u001b[0m 6ms/step - accuracy: 0.9668 - loss: 0.0980 - val_accuracy: 0.5615 - val_loss: 3.7313\n",
      "Epoch 42/100\n",
      "\u001b[1m782/782\u001b[0m \u001b[32m━━━━━━━━━━━━━━━━━━━━\u001b[0m\u001b[37m\u001b[0m \u001b[1m5s\u001b[0m 6ms/step - accuracy: 0.9640 - loss: 0.1042 - val_accuracy: 0.5593 - val_loss: 3.6435\n",
      "Epoch 43/100\n",
      "\u001b[1m782/782\u001b[0m \u001b[32m━━━━━━━━━━━━━━━━━━━━\u001b[0m\u001b[37m\u001b[0m \u001b[1m5s\u001b[0m 6ms/step - accuracy: 0.9643 - loss: 0.1035 - val_accuracy: 0.5576 - val_loss: 3.8863\n",
      "Epoch 44/100\n",
      "\u001b[1m782/782\u001b[0m \u001b[32m━━━━━━━━━━━━━━━━━━━━\u001b[0m\u001b[37m\u001b[0m \u001b[1m5s\u001b[0m 6ms/step - accuracy: 0.9688 - loss: 0.0907 - val_accuracy: 0.5627 - val_loss: 3.8442\n",
      "Epoch 45/100\n",
      "\u001b[1m782/782\u001b[0m \u001b[32m━━━━━━━━━━━━━━━━━━━━\u001b[0m\u001b[37m\u001b[0m \u001b[1m5s\u001b[0m 6ms/step - accuracy: 0.9694 - loss: 0.0904 - val_accuracy: 0.5582 - val_loss: 4.0309\n",
      "Epoch 46/100\n",
      "\u001b[1m782/782\u001b[0m \u001b[32m━━━━━━━━━━━━━━━━━━━━\u001b[0m\u001b[37m\u001b[0m \u001b[1m5s\u001b[0m 6ms/step - accuracy: 0.9624 - loss: 0.1064 - val_accuracy: 0.5618 - val_loss: 4.0379\n",
      "Epoch 47/100\n",
      "\u001b[1m782/782\u001b[0m \u001b[32m━━━━━━━━━━━━━━━━━━━━\u001b[0m\u001b[37m\u001b[0m \u001b[1m5s\u001b[0m 6ms/step - accuracy: 0.9696 - loss: 0.0916 - val_accuracy: 0.5575 - val_loss: 4.0955\n",
      "Epoch 48/100\n",
      "\u001b[1m782/782\u001b[0m \u001b[32m━━━━━━━━━━━━━━━━━━━━\u001b[0m\u001b[37m\u001b[0m \u001b[1m5s\u001b[0m 6ms/step - accuracy: 0.9694 - loss: 0.0900 - val_accuracy: 0.5580 - val_loss: 4.2045\n",
      "Epoch 49/100\n",
      "\u001b[1m782/782\u001b[0m \u001b[32m━━━━━━━━━━━━━━━━━━━━\u001b[0m\u001b[37m\u001b[0m \u001b[1m5s\u001b[0m 6ms/step - accuracy: 0.9733 - loss: 0.0780 - val_accuracy: 0.5604 - val_loss: 4.2487\n",
      "Epoch 50/100\n",
      "\u001b[1m782/782\u001b[0m \u001b[32m━━━━━━━━━━━━━━━━━━━━\u001b[0m\u001b[37m\u001b[0m \u001b[1m5s\u001b[0m 6ms/step - accuracy: 0.9718 - loss: 0.0820 - val_accuracy: 0.5598 - val_loss: 4.3342\n",
      "Epoch 51/100\n",
      "\u001b[1m782/782\u001b[0m \u001b[32m━━━━━━━━━━━━━━━━━━━━\u001b[0m\u001b[37m\u001b[0m \u001b[1m5s\u001b[0m 6ms/step - accuracy: 0.9721 - loss: 0.0827 - val_accuracy: 0.5561 - val_loss: 4.3780\n",
      "Epoch 52/100\n",
      "\u001b[1m782/782\u001b[0m \u001b[32m━━━━━━━━━━━━━━━━━━━━\u001b[0m\u001b[37m\u001b[0m \u001b[1m5s\u001b[0m 6ms/step - accuracy: 0.9710 - loss: 0.0828 - val_accuracy: 0.5584 - val_loss: 4.3866\n",
      "Epoch 53/100\n",
      "\u001b[1m782/782\u001b[0m \u001b[32m━━━━━━━━━━━━━━━━━━━━\u001b[0m\u001b[37m\u001b[0m \u001b[1m4s\u001b[0m 6ms/step - accuracy: 0.9786 - loss: 0.0654 - val_accuracy: 0.5621 - val_loss: 4.5279\n",
      "Epoch 54/100\n",
      "\u001b[1m782/782\u001b[0m \u001b[32m━━━━━━━━━━━━━━━━━━━━\u001b[0m\u001b[37m\u001b[0m \u001b[1m5s\u001b[0m 6ms/step - accuracy: 0.9684 - loss: 0.0884 - val_accuracy: 0.5607 - val_loss: 4.3866\n",
      "Epoch 55/100\n",
      "\u001b[1m782/782\u001b[0m \u001b[32m━━━━━━━━━━━━━━━━━━━━\u001b[0m\u001b[37m\u001b[0m \u001b[1m4s\u001b[0m 6ms/step - accuracy: 0.9728 - loss: 0.0801 - val_accuracy: 0.5605 - val_loss: 4.5395\n",
      "Epoch 56/100\n",
      "\u001b[1m782/782\u001b[0m \u001b[32m━━━━━━━━━━━━━━━━━━━━\u001b[0m\u001b[37m\u001b[0m \u001b[1m4s\u001b[0m 6ms/step - accuracy: 0.9724 - loss: 0.0808 - val_accuracy: 0.5617 - val_loss: 4.6194\n",
      "Epoch 57/100\n",
      "\u001b[1m782/782\u001b[0m \u001b[32m━━━━━━━━━━━━━━━━━━━━\u001b[0m\u001b[37m\u001b[0m \u001b[1m4s\u001b[0m 6ms/step - accuracy: 0.9779 - loss: 0.0656 - val_accuracy: 0.5601 - val_loss: 4.6402\n",
      "Epoch 58/100\n",
      "\u001b[1m782/782\u001b[0m \u001b[32m━━━━━━━━━━━━━━━━━━━━\u001b[0m\u001b[37m\u001b[0m \u001b[1m4s\u001b[0m 6ms/step - accuracy: 0.9746 - loss: 0.0755 - val_accuracy: 0.5583 - val_loss: 4.8120\n",
      "Epoch 59/100\n",
      "\u001b[1m782/782\u001b[0m \u001b[32m━━━━━━━━━━━━━━━━━━━━\u001b[0m\u001b[37m\u001b[0m \u001b[1m4s\u001b[0m 6ms/step - accuracy: 0.9708 - loss: 0.0824 - val_accuracy: 0.5585 - val_loss: 4.6525\n",
      "Epoch 60/100\n",
      "\u001b[1m782/782\u001b[0m \u001b[32m━━━━━━━━━━━━━━━━━━━━\u001b[0m\u001b[37m\u001b[0m \u001b[1m4s\u001b[0m 5ms/step - accuracy: 0.9820 - loss: 0.0555 - val_accuracy: 0.5535 - val_loss: 4.8760\n",
      "Epoch 61/100\n",
      "\u001b[1m782/782\u001b[0m \u001b[32m━━━━━━━━━━━━━━━━━━━━\u001b[0m\u001b[37m\u001b[0m \u001b[1m4s\u001b[0m 6ms/step - accuracy: 0.9734 - loss: 0.0764 - val_accuracy: 0.5579 - val_loss: 4.7499\n",
      "Epoch 62/100\n",
      "\u001b[1m782/782\u001b[0m \u001b[32m━━━━━━━━━━━━━━━━━━━━\u001b[0m\u001b[37m\u001b[0m \u001b[1m4s\u001b[0m 5ms/step - accuracy: 0.9772 - loss: 0.0668 - val_accuracy: 0.5520 - val_loss: 4.9576\n",
      "Epoch 63/100\n",
      "\u001b[1m782/782\u001b[0m \u001b[32m━━━━━━━━━━━━━━━━━━━━\u001b[0m\u001b[37m\u001b[0m \u001b[1m4s\u001b[0m 5ms/step - accuracy: 0.9786 - loss: 0.0622 - val_accuracy: 0.5461 - val_loss: 5.1730\n",
      "Epoch 64/100\n",
      "\u001b[1m782/782\u001b[0m \u001b[32m━━━━━━━━━━━━━━━━━━━━\u001b[0m\u001b[37m\u001b[0m \u001b[1m4s\u001b[0m 6ms/step - accuracy: 0.9798 - loss: 0.0586 - val_accuracy: 0.5534 - val_loss: 5.0438\n",
      "Epoch 65/100\n",
      "\u001b[1m782/782\u001b[0m \u001b[32m━━━━━━━━━━━━━━━━━━━━\u001b[0m\u001b[37m\u001b[0m \u001b[1m4s\u001b[0m 6ms/step - accuracy: 0.9728 - loss: 0.0817 - val_accuracy: 0.5584 - val_loss: 5.0420\n",
      "Epoch 66/100\n",
      "\u001b[1m782/782\u001b[0m \u001b[32m━━━━━━━━━━━━━━━━━━━━\u001b[0m\u001b[37m\u001b[0m \u001b[1m4s\u001b[0m 6ms/step - accuracy: 0.9747 - loss: 0.0765 - val_accuracy: 0.5602 - val_loss: 5.0194\n",
      "Epoch 67/100\n",
      "\u001b[1m782/782\u001b[0m \u001b[32m━━━━━━━━━━━━━━━━━━━━\u001b[0m\u001b[37m\u001b[0m \u001b[1m4s\u001b[0m 6ms/step - accuracy: 0.9819 - loss: 0.0527 - val_accuracy: 0.5558 - val_loss: 5.1529\n",
      "Epoch 68/100\n",
      "\u001b[1m782/782\u001b[0m \u001b[32m━━━━━━━━━━━━━━━━━━━━\u001b[0m\u001b[37m\u001b[0m \u001b[1m4s\u001b[0m 6ms/step - accuracy: 0.9817 - loss: 0.0546 - val_accuracy: 0.5603 - val_loss: 5.2401\n",
      "Epoch 69/100\n",
      "\u001b[1m782/782\u001b[0m \u001b[32m━━━━━━━━━━━━━━━━━━━━\u001b[0m\u001b[37m\u001b[0m \u001b[1m4s\u001b[0m 6ms/step - accuracy: 0.9720 - loss: 0.0827 - val_accuracy: 0.5570 - val_loss: 5.2119\n",
      "Epoch 70/100\n",
      "\u001b[1m782/782\u001b[0m \u001b[32m━━━━━━━━━━━━━━━━━━━━\u001b[0m\u001b[37m\u001b[0m \u001b[1m4s\u001b[0m 6ms/step - accuracy: 0.9774 - loss: 0.0680 - val_accuracy: 0.5593 - val_loss: 5.3212\n",
      "Epoch 71/100\n",
      "\u001b[1m782/782\u001b[0m \u001b[32m━━━━━━━━━━━━━━━━━━━━\u001b[0m\u001b[37m\u001b[0m \u001b[1m5s\u001b[0m 6ms/step - accuracy: 0.9816 - loss: 0.0550 - val_accuracy: 0.5593 - val_loss: 5.3236\n",
      "Epoch 72/100\n",
      "\u001b[1m782/782\u001b[0m \u001b[32m━━━━━━━━━━━━━━━━━━━━\u001b[0m\u001b[37m\u001b[0m \u001b[1m4s\u001b[0m 5ms/step - accuracy: 0.9790 - loss: 0.0638 - val_accuracy: 0.5573 - val_loss: 5.2355\n",
      "Epoch 73/100\n",
      "\u001b[1m782/782\u001b[0m \u001b[32m━━━━━━━━━━━━━━━━━━━━\u001b[0m\u001b[37m\u001b[0m \u001b[1m4s\u001b[0m 5ms/step - accuracy: 0.9823 - loss: 0.0520 - val_accuracy: 0.5523 - val_loss: 5.3566\n",
      "Epoch 74/100\n",
      "\u001b[1m782/782\u001b[0m \u001b[32m━━━━━━━━━━━━━━━━━━━━\u001b[0m\u001b[37m\u001b[0m \u001b[1m4s\u001b[0m 5ms/step - accuracy: 0.9770 - loss: 0.0701 - val_accuracy: 0.5527 - val_loss: 5.3881\n",
      "Epoch 75/100\n",
      "\u001b[1m782/782\u001b[0m \u001b[32m━━━━━━━━━━━━━━━━━━━━\u001b[0m\u001b[37m\u001b[0m \u001b[1m4s\u001b[0m 6ms/step - accuracy: 0.9812 - loss: 0.0577 - val_accuracy: 0.5536 - val_loss: 5.5549\n",
      "Epoch 76/100\n",
      "\u001b[1m782/782\u001b[0m \u001b[32m━━━━━━━━━━━━━━━━━━━━\u001b[0m\u001b[37m\u001b[0m \u001b[1m4s\u001b[0m 6ms/step - accuracy: 0.9815 - loss: 0.0571 - val_accuracy: 0.5539 - val_loss: 5.4244\n",
      "Epoch 77/100\n",
      "\u001b[1m782/782\u001b[0m \u001b[32m━━━━━━━━━━━━━━━━━━━━\u001b[0m\u001b[37m\u001b[0m \u001b[1m4s\u001b[0m 6ms/step - accuracy: 0.9814 - loss: 0.0552 - val_accuracy: 0.5589 - val_loss: 5.5103\n",
      "Epoch 78/100\n",
      "\u001b[1m782/782\u001b[0m \u001b[32m━━━━━━━━━━━━━━━━━━━━\u001b[0m\u001b[37m\u001b[0m \u001b[1m4s\u001b[0m 6ms/step - accuracy: 0.9797 - loss: 0.0587 - val_accuracy: 0.5595 - val_loss: 5.5625\n",
      "Epoch 79/100\n",
      "\u001b[1m782/782\u001b[0m \u001b[32m━━━━━━━━━━━━━━━━━━━━\u001b[0m\u001b[37m\u001b[0m \u001b[1m4s\u001b[0m 6ms/step - accuracy: 0.9801 - loss: 0.0602 - val_accuracy: 0.5480 - val_loss: 5.4307\n",
      "Epoch 80/100\n",
      "\u001b[1m782/782\u001b[0m \u001b[32m━━━━━━━━━━━━━━━━━━━━\u001b[0m\u001b[37m\u001b[0m \u001b[1m4s\u001b[0m 6ms/step - accuracy: 0.9795 - loss: 0.0625 - val_accuracy: 0.5527 - val_loss: 5.5983\n",
      "Epoch 81/100\n",
      "\u001b[1m782/782\u001b[0m \u001b[32m━━━━━━━━━━━━━━━━━━━━\u001b[0m\u001b[37m\u001b[0m \u001b[1m4s\u001b[0m 6ms/step - accuracy: 0.9806 - loss: 0.0565 - val_accuracy: 0.5584 - val_loss: 5.5674\n",
      "Epoch 82/100\n",
      "\u001b[1m782/782\u001b[0m \u001b[32m━━━━━━━━━━━━━━━━━━━━\u001b[0m\u001b[37m\u001b[0m \u001b[1m5s\u001b[0m 6ms/step - accuracy: 0.9805 - loss: 0.0592 - val_accuracy: 0.5563 - val_loss: 5.6598\n",
      "Epoch 83/100\n",
      "\u001b[1m782/782\u001b[0m \u001b[32m━━━━━━━━━━━━━━━━━━━━\u001b[0m\u001b[37m\u001b[0m \u001b[1m4s\u001b[0m 6ms/step - accuracy: 0.9807 - loss: 0.0563 - val_accuracy: 0.5572 - val_loss: 5.6198\n",
      "Epoch 84/100\n",
      "\u001b[1m782/782\u001b[0m \u001b[32m━━━━━━━━━━━━━━━━━━━━\u001b[0m\u001b[37m\u001b[0m \u001b[1m5s\u001b[0m 6ms/step - accuracy: 0.9841 - loss: 0.0489 - val_accuracy: 0.5596 - val_loss: 5.7493\n",
      "Epoch 85/100\n",
      "\u001b[1m782/782\u001b[0m \u001b[32m━━━━━━━━━━━━━━━━━━━━\u001b[0m\u001b[37m\u001b[0m \u001b[1m5s\u001b[0m 6ms/step - accuracy: 0.9841 - loss: 0.0456 - val_accuracy: 0.5588 - val_loss: 5.7934\n",
      "Epoch 86/100\n",
      "\u001b[1m782/782\u001b[0m \u001b[32m━━━━━━━━━━━━━━━━━━━━\u001b[0m\u001b[37m\u001b[0m \u001b[1m4s\u001b[0m 6ms/step - accuracy: 0.9795 - loss: 0.0605 - val_accuracy: 0.5626 - val_loss: 5.6250\n",
      "Epoch 87/100\n",
      "\u001b[1m782/782\u001b[0m \u001b[32m━━━━━━━━━━━━━━━━━━━━\u001b[0m\u001b[37m\u001b[0m \u001b[1m4s\u001b[0m 6ms/step - accuracy: 0.9832 - loss: 0.0522 - val_accuracy: 0.5517 - val_loss: 5.8515\n",
      "Epoch 88/100\n",
      "\u001b[1m782/782\u001b[0m \u001b[32m━━━━━━━━━━━━━━━━━━━━\u001b[0m\u001b[37m\u001b[0m \u001b[1m4s\u001b[0m 6ms/step - accuracy: 0.9822 - loss: 0.0554 - val_accuracy: 0.5610 - val_loss: 5.8817\n",
      "Epoch 89/100\n",
      "\u001b[1m782/782\u001b[0m \u001b[32m━━━━━━━━━━━━━━━━━━━━\u001b[0m\u001b[37m\u001b[0m \u001b[1m4s\u001b[0m 6ms/step - accuracy: 0.9818 - loss: 0.0564 - val_accuracy: 0.5526 - val_loss: 5.8414\n",
      "Epoch 90/100\n",
      "\u001b[1m782/782\u001b[0m \u001b[32m━━━━━━━━━━━━━━━━━━━━\u001b[0m\u001b[37m\u001b[0m \u001b[1m4s\u001b[0m 6ms/step - accuracy: 0.9802 - loss: 0.0608 - val_accuracy: 0.5605 - val_loss: 5.7917\n",
      "Epoch 91/100\n",
      "\u001b[1m782/782\u001b[0m \u001b[32m━━━━━━━━━━━━━━━━━━━━\u001b[0m\u001b[37m\u001b[0m \u001b[1m5s\u001b[0m 6ms/step - accuracy: 0.9849 - loss: 0.0458 - val_accuracy: 0.5515 - val_loss: 5.9766\n",
      "Epoch 92/100\n",
      "\u001b[1m782/782\u001b[0m \u001b[32m━━━━━━━━━━━━━━━━━━━━\u001b[0m\u001b[37m\u001b[0m \u001b[1m4s\u001b[0m 6ms/step - accuracy: 0.9854 - loss: 0.0441 - val_accuracy: 0.5539 - val_loss: 6.0190\n",
      "Epoch 93/100\n",
      "\u001b[1m782/782\u001b[0m \u001b[32m━━━━━━━━━━━━━━━━━━━━\u001b[0m\u001b[37m\u001b[0m \u001b[1m4s\u001b[0m 6ms/step - accuracy: 0.9797 - loss: 0.0633 - val_accuracy: 0.5545 - val_loss: 5.8655\n",
      "Epoch 94/100\n",
      "\u001b[1m782/782\u001b[0m \u001b[32m━━━━━━━━━━━━━━━━━━━━\u001b[0m\u001b[37m\u001b[0m \u001b[1m4s\u001b[0m 6ms/step - accuracy: 0.9830 - loss: 0.0519 - val_accuracy: 0.5518 - val_loss: 5.8957\n",
      "Epoch 95/100\n",
      "\u001b[1m782/782\u001b[0m \u001b[32m━━━━━━━━━━━━━━━━━━━━\u001b[0m\u001b[37m\u001b[0m \u001b[1m4s\u001b[0m 6ms/step - accuracy: 0.9873 - loss: 0.0388 - val_accuracy: 0.5511 - val_loss: 6.0568\n",
      "Epoch 96/100\n",
      "\u001b[1m782/782\u001b[0m \u001b[32m━━━━━━━━━━━━━━━━━━━━\u001b[0m\u001b[37m\u001b[0m \u001b[1m4s\u001b[0m 6ms/step - accuracy: 0.9807 - loss: 0.0622 - val_accuracy: 0.5495 - val_loss: 6.2103\n",
      "Epoch 97/100\n",
      "\u001b[1m782/782\u001b[0m \u001b[32m━━━━━━━━━━━━━━━━━━━━\u001b[0m\u001b[37m\u001b[0m \u001b[1m4s\u001b[0m 6ms/step - accuracy: 0.9835 - loss: 0.0487 - val_accuracy: 0.5506 - val_loss: 6.0919\n",
      "Epoch 98/100\n",
      "\u001b[1m782/782\u001b[0m \u001b[32m━━━━━━━━━━━━━━━━━━━━\u001b[0m\u001b[37m\u001b[0m \u001b[1m4s\u001b[0m 6ms/step - accuracy: 0.9830 - loss: 0.0501 - val_accuracy: 0.5560 - val_loss: 6.2583\n",
      "Epoch 99/100\n",
      "\u001b[1m782/782\u001b[0m \u001b[32m━━━━━━━━━━━━━━━━━━━━\u001b[0m\u001b[37m\u001b[0m \u001b[1m4s\u001b[0m 6ms/step - accuracy: 0.9871 - loss: 0.0411 - val_accuracy: 0.5538 - val_loss: 6.1905\n",
      "Epoch 100/100\n",
      "\u001b[1m782/782\u001b[0m \u001b[32m━━━━━━━━━━━━━━━━━━━━\u001b[0m\u001b[37m\u001b[0m \u001b[1m4s\u001b[0m 6ms/step - accuracy: 0.9820 - loss: 0.0563 - val_accuracy: 0.5621 - val_loss: 6.1536\n"
     ]
    }
   ],
   "source": [
    "model=Sequential()\n",
    "model.add(Conv2D(6,(3,3),activation='relu'))\n",
    "model.add(MaxPool2D((2,2)))\n",
    "model.add(Flatten(input_shape=(32,32,3)))\n",
    "model.add(Dense(128,activation='relu'))\n",
    "model.add(Dense(64,activation='relu'))\n",
    "model.add(Dense(10,activation='softmax'))\n",
    "model.compile(optimizer='adam',loss='categorical_crossentropy',metrics=['accuracy'])\n",
    "result=model.fit(X_train,y_train,epochs=100,batch_size=64,validation_data=(X_test,y_test))\n",
    "\n"
   ]
  },
  {
   "cell_type": "code",
   "execution_count": 23,
   "id": "75fb0351",
   "metadata": {},
   "outputs": [
    {
     "name": "stdout",
     "output_type": "stream",
     "text": [
      "dict_items([('accuracy', [0.4264799952507019, 0.5384799838066101, 0.5781000256538391, 0.6087200045585632, 0.6315000057220459, 0.6561200022697449, 0.6759200096130371, 0.694159984588623, 0.7105799913406372, 0.7268400192260742, 0.7395200133323669, 0.7580000162124634, 0.7723600268363953, 0.7864400148391724, 0.7997400164604187, 0.8138999938964844, 0.8259199857711792, 0.8392199873924255, 0.8493199944496155, 0.8601199984550476, 0.8680800199508667, 0.8773199915885925, 0.887499988079071, 0.8975399732589722, 0.9057400226593018, 0.9100000262260437, 0.916159987449646, 0.9241799712181091, 0.928879976272583, 0.9335799813270569, 0.9391400218009949, 0.9431599974632263, 0.9459599852561951, 0.9484400153160095, 0.9521999955177307, 0.9508600234985352, 0.9556999802589417, 0.9607200026512146, 0.9614400267601013, 0.9556199908256531, 0.9667800068855286, 0.9639800190925598, 0.9642999768257141, 0.968779981136322, 0.9694200158119202, 0.9623799920082092, 0.9696400165557861, 0.9693599939346313, 0.9732800126075745, 0.9717599749565125, 0.9720799922943115, 0.9710000157356262, 0.9785599708557129, 0.9684399962425232, 0.9728400111198425, 0.9724400043487549, 0.977940022945404, 0.97461998462677, 0.9708399772644043, 0.9820399880409241, 0.9733999967575073, 0.9771599769592285, 0.978600025177002, 0.9798200130462646, 0.9728000164031982, 0.9746999740600586, 0.9818800091743469, 0.981719970703125, 0.9719799757003784, 0.9774199724197388, 0.9815999865531921, 0.9790199995040894, 0.9823200106620789, 0.9769999980926514, 0.981220006942749, 0.9814800024032593, 0.981440007686615, 0.9796800017356873, 0.980139970779419, 0.9795200228691101, 0.9806399941444397, 0.9805200099945068, 0.980679988861084, 0.9840800166130066, 0.9841399788856506, 0.9795200228691101, 0.983240008354187, 0.9822199940681458, 0.9817600250244141, 0.9802200198173523, 0.9848999977111816, 0.9853799939155579, 0.9796599745750427, 0.983020007610321, 0.987339973449707, 0.9806600213050842, 0.9835399985313416, 0.983020007610321, 0.987060010433197, 0.9820200204849243]), ('loss', [1.590755581855774, 1.300606369972229, 1.1928554773330688, 1.113556146621704, 1.047087550163269, 0.9799962639808655, 0.92519211769104, 0.8730126023292542, 0.8280190825462341, 0.7818645238876343, 0.7350388765335083, 0.6901954412460327, 0.6462218165397644, 0.6078457236289978, 0.5738101601600647, 0.532778263092041, 0.4965055584907532, 0.4632243812084198, 0.43214333057403564, 0.4045396149158478, 0.3796653151512146, 0.35158461332321167, 0.32500210404396057, 0.2961682081222534, 0.27406662702560425, 0.25843602418899536, 0.24276694655418396, 0.21769224107265472, 0.2062201350927353, 0.1940099447965622, 0.17557960748672485, 0.16476693749427795, 0.1590673178434372, 0.14973008632659912, 0.1389063447713852, 0.14147409796714783, 0.1278277188539505, 0.11658000200986862, 0.11140192300081253, 0.12561681866645813, 0.09803471714258194, 0.10418201237916946, 0.10352712124586105, 0.09072025120258331, 0.09036780148744583, 0.1063942089676857, 0.09157051146030426, 0.08998596668243408, 0.07796088606119156, 0.08204521238803864, 0.08272719383239746, 0.08275528997182846, 0.06538747251033783, 0.08835495263338089, 0.08007103204727173, 0.08075863122940063, 0.06556655466556549, 0.07552355527877808, 0.08244946599006653, 0.05553068220615387, 0.07636311650276184, 0.06680881232023239, 0.062196824699640274, 0.058592841029167175, 0.08168051391839981, 0.07650858908891678, 0.052731387317180634, 0.05456075072288513, 0.08270838856697083, 0.06796643137931824, 0.05504753813147545, 0.06381624191999435, 0.051972270011901855, 0.07005403935909271, 0.05774792656302452, 0.05710504576563835, 0.05517527833580971, 0.05872625485062599, 0.06023169308900833, 0.0625431016087532, 0.056529320776462555, 0.05920907109975815, 0.05634220689535141, 0.04894157871603966, 0.0456266850233078, 0.060460057109594345, 0.05216928571462631, 0.05536184459924698, 0.05638166144490242, 0.060766253620386124, 0.04575369507074356, 0.04409122094511986, 0.06325355172157288, 0.051920294761657715, 0.0387946255505085, 0.062207773327827454, 0.04865723103284836, 0.05011634901165962, 0.04107202589511871, 0.05629013851284981]), ('val_accuracy', [0.46630001068115234, 0.5424000024795532, 0.5726000070571899, 0.5892999768257141, 0.5810999870300293, 0.5866000056266785, 0.5978000164031982, 0.5979999899864197, 0.6000999808311462, 0.6079999804496765, 0.5900999903678894, 0.6013000011444092, 0.5946000218391418, 0.5884000062942505, 0.597000002861023, 0.592199981212616, 0.5848000049591064, 0.5812000036239624, 0.5878999829292297, 0.5827000141143799, 0.5766000151634216, 0.579200029373169, 0.5817000269889832, 0.576200008392334, 0.5734999775886536, 0.5674999952316284, 0.5735999941825867, 0.5727999806404114, 0.5713000297546387, 0.5702000260353088, 0.5626999735832214, 0.5640000104904175, 0.5644999742507935, 0.5713000297546387, 0.5609999895095825, 0.5608999729156494, 0.5598999857902527, 0.5631999969482422, 0.5619000196456909, 0.5619999766349792, 0.5615000128746033, 0.5593000054359436, 0.5576000213623047, 0.5626999735832214, 0.5582000017166138, 0.5618000030517578, 0.5575000047683716, 0.5580000281333923, 0.5604000091552734, 0.5598000288009644, 0.5561000108718872, 0.5583999752998352, 0.5620999932289124, 0.560699999332428, 0.5605000257492065, 0.5616999864578247, 0.5601000189781189, 0.5583000183105469, 0.5584999918937683, 0.5534999966621399, 0.5579000115394592, 0.5519999861717224, 0.5461000204086304, 0.5533999800682068, 0.5583999752998352, 0.5601999759674072, 0.5558000206947327, 0.5602999925613403, 0.5569999814033508, 0.5593000054359436, 0.5593000054359436, 0.5572999715805054, 0.552299976348877, 0.5526999831199646, 0.553600013256073, 0.5539000034332275, 0.558899998664856, 0.559499979019165, 0.5479999780654907, 0.5526999831199646, 0.5583999752998352, 0.5562999844551086, 0.557200014591217, 0.5595999956130981, 0.5587999820709229, 0.5626000165939331, 0.5516999959945679, 0.5609999895095825, 0.5526000261306763, 0.5605000257492065, 0.5515000224113464, 0.5539000034332275, 0.5544999837875366, 0.551800012588501, 0.5511000156402588, 0.5494999885559082, 0.550599992275238, 0.5559999942779541, 0.5537999868392944, 0.5620999932289124]), ('val_loss', [1.4822558164596558, 1.2957121133804321, 1.217714786529541, 1.1683136224746704, 1.1822575330734253, 1.18545663356781, 1.1508374214172363, 1.1735239028930664, 1.172884464263916, 1.1948189735412598, 1.2662100791931152, 1.2521677017211914, 1.312664270401001, 1.3446288108825684, 1.3362054824829102, 1.4055436849594116, 1.5108387470245361, 1.548270583152771, 1.6215072870254517, 1.7187730073928833, 1.7557250261306763, 1.829031229019165, 1.908609390258789, 2.0160458087921143, 2.163723945617676, 2.231579542160034, 2.264371156692505, 2.4046216011047363, 2.4971115589141846, 2.5929274559020996, 2.723116397857666, 2.835223913192749, 2.9622550010681152, 2.9969515800476074, 3.11143159866333, 3.2035787105560303, 3.4078352451324463, 3.4336330890655518, 3.482928991317749, 3.4597723484039307, 3.7312941551208496, 3.6435484886169434, 3.8862996101379395, 3.8441858291625977, 4.030879020690918, 4.037917613983154, 4.0955400466918945, 4.204524040222168, 4.24869966506958, 4.334235668182373, 4.3780388832092285, 4.386570930480957, 4.527939319610596, 4.386601448059082, 4.539474010467529, 4.619383811950684, 4.640152931213379, 4.811962604522705, 4.6524882316589355, 4.8760175704956055, 4.749909400939941, 4.957596302032471, 5.173020839691162, 5.0437798500061035, 5.0420050621032715, 5.019355773925781, 5.152922630310059, 5.240127086639404, 5.211943626403809, 5.321239471435547, 5.323649883270264, 5.235479831695557, 5.356607437133789, 5.388072490692139, 5.554853916168213, 5.424370288848877, 5.510287284851074, 5.56247091293335, 5.430659770965576, 5.598327159881592, 5.56744909286499, 5.659817695617676, 5.619828224182129, 5.749298572540283, 5.793417453765869, 5.624964714050293, 5.851541996002197, 5.881653308868408, 5.841407775878906, 5.791743755340576, 5.976588726043701, 6.019023895263672, 5.865488052368164, 5.895727157592773, 6.0568342208862305, 6.210256099700928, 6.091868877410889, 6.2582807540893555, 6.190466403961182, 6.153621196746826])])\n",
      "dict_keys(['accuracy', 'loss', 'val_accuracy', 'val_loss'])\n"
     ]
    }
   ],
   "source": [
    "print(result.history.items())\n",
    "print(result.history.keys())"
   ]
  },
  {
   "cell_type": "markdown",
   "id": "8501348a",
   "metadata": {},
   "source": [
    "## Visualization\n"
   ]
  },
  {
   "cell_type": "code",
   "execution_count": 24,
   "id": "1ab0325f",
   "metadata": {},
   "outputs": [
    {
     "data": {
      "text/plain": [
       "<matplotlib.legend.Legend at 0x321046b30>"
      ]
     },
     "execution_count": 24,
     "metadata": {},
     "output_type": "execute_result"
    },
    {
     "data": {
      "image/png": "[encoded data removed]",
      "text/plain": [
       "<Figure size 640x480 with 1 Axes>"
      ]
     },
     "metadata": {},
     "output_type": "display_data"
    }
   ],
   "source": [
    "plt.plot(result.history['accuracy'],label='train_accuracy',color='blue')\n",
    "plt.plot(result.history['val_accuracy'],label='val_accuracy',color='red')\n",
    "plt.legend()\n",
    "\n",
    "\n"
   ]
  }
 ],
 "metadata": {
  "kernelspec": {
   "display_name": "venv",
   "language": "python",
   "name": "python3"
  },
  "language_info": {
   "codemirror_mode": {
    "name": "ipython",
    "version": 3
   },
   "file_extension": ".py",
   "mimetype": "text/x-python",
   "name": "python",
   "nbconvert_exporter": "python",
   "pygments_lexer": "ipython3",
   "version": "3.10.13"
  }
 },
 "nbformat": 4,
 "nbformat_minor": 5
}
